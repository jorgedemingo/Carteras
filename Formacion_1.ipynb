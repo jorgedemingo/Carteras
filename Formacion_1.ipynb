{
 "cells": [
  {
   "cell_type": "code",
   "execution_count": 1,
   "metadata": {},
   "outputs": [],
   "source": [
    "import pandas as pd\n",
    "import numpy as np\n",
    "import pandas_datareader as dr\n",
    "import matplotlib.pyplot as plt\n",
    "# Librería para mejorar la visualización del gráfico\n",
    "plt.style.use('seaborn-darkgrid')"
   ]
  },
  {
   "cell_type": "code",
   "execution_count": 2,
   "metadata": {},
   "outputs": [
    {
     "data": {
      "text/html": [
       "<div>\n",
       "<style scoped>\n",
       "    .dataframe tbody tr th:only-of-type {\n",
       "        vertical-align: middle;\n",
       "    }\n",
       "\n",
       "    .dataframe tbody tr th {\n",
       "        vertical-align: top;\n",
       "    }\n",
       "\n",
       "    .dataframe thead th {\n",
       "        text-align: right;\n",
       "    }\n",
       "</style>\n",
       "<table border=\"1\" class=\"dataframe\">\n",
       "  <thead>\n",
       "    <tr style=\"text-align: right;\">\n",
       "      <th></th>\n",
       "      <th>High</th>\n",
       "      <th>Low</th>\n",
       "      <th>Open</th>\n",
       "      <th>Close</th>\n",
       "      <th>Volume</th>\n",
       "      <th>Adj Close</th>\n",
       "    </tr>\n",
       "    <tr>\n",
       "      <th>Date</th>\n",
       "      <th></th>\n",
       "      <th></th>\n",
       "      <th></th>\n",
       "      <th></th>\n",
       "      <th></th>\n",
       "      <th></th>\n",
       "    </tr>\n",
       "  </thead>\n",
       "  <tbody>\n",
       "    <tr>\n",
       "      <td>2019-12-04</td>\n",
       "      <td>312.119995</td>\n",
       "      <td>310.320007</td>\n",
       "      <td>310.700012</td>\n",
       "      <td>311.459991</td>\n",
       "      <td>49080000.0</td>\n",
       "      <td>311.459991</td>\n",
       "    </tr>\n",
       "    <tr>\n",
       "      <td>2019-12-05</td>\n",
       "      <td>312.250000</td>\n",
       "      <td>310.579987</td>\n",
       "      <td>312.230011</td>\n",
       "      <td>312.019989</td>\n",
       "      <td>40709000.0</td>\n",
       "      <td>312.019989</td>\n",
       "    </tr>\n",
       "    <tr>\n",
       "      <td>2019-12-06</td>\n",
       "      <td>315.309998</td>\n",
       "      <td>314.109985</td>\n",
       "      <td>314.119995</td>\n",
       "      <td>314.869995</td>\n",
       "      <td>48927000.0</td>\n",
       "      <td>314.869995</td>\n",
       "    </tr>\n",
       "    <tr>\n",
       "      <td>2019-12-09</td>\n",
       "      <td>315.179993</td>\n",
       "      <td>313.799988</td>\n",
       "      <td>314.440002</td>\n",
       "      <td>313.880005</td>\n",
       "      <td>34838500.0</td>\n",
       "      <td>313.880005</td>\n",
       "    </tr>\n",
       "    <tr>\n",
       "      <td>2019-12-10</td>\n",
       "      <td>314.540009</td>\n",
       "      <td>312.809998</td>\n",
       "      <td>313.820007</td>\n",
       "      <td>313.579987</td>\n",
       "      <td>53107133.0</td>\n",
       "      <td>313.579987</td>\n",
       "    </tr>\n",
       "  </tbody>\n",
       "</table>\n",
       "</div>"
      ],
      "text/plain": [
       "                  High         Low        Open       Close      Volume  \\\n",
       "Date                                                                     \n",
       "2019-12-04  312.119995  310.320007  310.700012  311.459991  49080000.0   \n",
       "2019-12-05  312.250000  310.579987  312.230011  312.019989  40709000.0   \n",
       "2019-12-06  315.309998  314.109985  314.119995  314.869995  48927000.0   \n",
       "2019-12-09  315.179993  313.799988  314.440002  313.880005  34838500.0   \n",
       "2019-12-10  314.540009  312.809998  313.820007  313.579987  53107133.0   \n",
       "\n",
       "             Adj Close  \n",
       "Date                    \n",
       "2019-12-04  311.459991  \n",
       "2019-12-05  312.019989  \n",
       "2019-12-06  314.869995  \n",
       "2019-12-09  313.880005  \n",
       "2019-12-10  313.579987  "
      ]
     },
     "execution_count": 2,
     "metadata": {},
     "output_type": "execute_result"
    }
   ],
   "source": [
    "# Seleccionamos el activo a analizar y las fechas de estudio\n",
    "from datetime import date\n",
    "Activo = 'SPY'\n",
    "FechaInicio = '1993-02-01'\n",
    "FechaFinal = date.today()\n",
    "# Descargamos la serie y mostramos el Tail.\n",
    "df = dr.data.get_data_yahoo(Activo,start=FechaInicio,end=FechaFinal)\n",
    "df = df[~df.index.duplicated()] # Eliminamos los duplicados en el índice (Problemas con criptomonedas)\n",
    "df.tail()"
   ]
  },
  {
   "cell_type": "code",
   "execution_count": 3,
   "metadata": {},
   "outputs": [],
   "source": [
    "# Creamos una nueva columna que recoge el cambio porecentual del precio de Cierre.\n",
    "# Mingo - Esto me chirría, el renmdiento Aritmético, solo está bien para decir que un \n",
    "# fondo o activo ha ganado tanto, pero en cuanto se empeice a trabajar con él . . . malo.\n",
    "#df[\"R. Aritmetico\"] = df[\"Adj Close\"].pct_change() \n",
    "#df.tail()\n",
    "#(np.log(spx.Close) - np.log(spx.Close.shift(1)))*100\n",
    "df[\"Rend_log\"] = (np.log(df[\"Adj Close\"]) - np.log(df[\"Adj Close\"].shift(1)))*100  #miltiplico x 100 para tenerlo en %\n",
    "df = df.dropna()"
   ]
  },
  {
   "cell_type": "code",
   "execution_count": 4,
   "metadata": {},
   "outputs": [
    {
     "data": {
      "text/html": [
       "<div>\n",
       "<style scoped>\n",
       "    .dataframe tbody tr th:only-of-type {\n",
       "        vertical-align: middle;\n",
       "    }\n",
       "\n",
       "    .dataframe tbody tr th {\n",
       "        vertical-align: top;\n",
       "    }\n",
       "\n",
       "    .dataframe thead th {\n",
       "        text-align: right;\n",
       "    }\n",
       "</style>\n",
       "<table border=\"1\" class=\"dataframe\">\n",
       "  <thead>\n",
       "    <tr style=\"text-align: right;\">\n",
       "      <th></th>\n",
       "      <th>High</th>\n",
       "      <th>Low</th>\n",
       "      <th>Open</th>\n",
       "      <th>Close</th>\n",
       "      <th>Volume</th>\n",
       "      <th>Adj Close</th>\n",
       "      <th>Rend_log</th>\n",
       "    </tr>\n",
       "    <tr>\n",
       "      <th>Date</th>\n",
       "      <th></th>\n",
       "      <th></th>\n",
       "      <th></th>\n",
       "      <th></th>\n",
       "      <th></th>\n",
       "      <th></th>\n",
       "      <th></th>\n",
       "    </tr>\n",
       "  </thead>\n",
       "  <tbody>\n",
       "    <tr>\n",
       "      <td>1993-02-02</td>\n",
       "      <td>44.375000</td>\n",
       "      <td>44.125000</td>\n",
       "      <td>44.218750</td>\n",
       "      <td>44.343750</td>\n",
       "      <td>201300.0</td>\n",
       "      <td>26.829773</td>\n",
       "      <td>0.211648</td>\n",
       "    </tr>\n",
       "    <tr>\n",
       "      <td>1993-02-03</td>\n",
       "      <td>44.843750</td>\n",
       "      <td>44.375000</td>\n",
       "      <td>44.406250</td>\n",
       "      <td>44.812500</td>\n",
       "      <td>529400.0</td>\n",
       "      <td>27.113388</td>\n",
       "      <td>1.051543</td>\n",
       "    </tr>\n",
       "    <tr>\n",
       "      <td>1993-02-04</td>\n",
       "      <td>45.093750</td>\n",
       "      <td>44.468750</td>\n",
       "      <td>44.968750</td>\n",
       "      <td>45.000000</td>\n",
       "      <td>531500.0</td>\n",
       "      <td>27.226835</td>\n",
       "      <td>0.417545</td>\n",
       "    </tr>\n",
       "    <tr>\n",
       "      <td>1993-02-05</td>\n",
       "      <td>45.062500</td>\n",
       "      <td>44.718750</td>\n",
       "      <td>44.968750</td>\n",
       "      <td>44.968750</td>\n",
       "      <td>492100.0</td>\n",
       "      <td>27.207933</td>\n",
       "      <td>-0.069448</td>\n",
       "    </tr>\n",
       "    <tr>\n",
       "      <td>1993-02-08</td>\n",
       "      <td>45.125000</td>\n",
       "      <td>44.906250</td>\n",
       "      <td>44.968750</td>\n",
       "      <td>44.968750</td>\n",
       "      <td>596100.0</td>\n",
       "      <td>27.207933</td>\n",
       "      <td>0.000000</td>\n",
       "    </tr>\n",
       "    <tr>\n",
       "      <td>...</td>\n",
       "      <td>...</td>\n",
       "      <td>...</td>\n",
       "      <td>...</td>\n",
       "      <td>...</td>\n",
       "      <td>...</td>\n",
       "      <td>...</td>\n",
       "      <td>...</td>\n",
       "    </tr>\n",
       "    <tr>\n",
       "      <td>2019-12-04</td>\n",
       "      <td>312.119995</td>\n",
       "      <td>310.320007</td>\n",
       "      <td>310.700012</td>\n",
       "      <td>311.459991</td>\n",
       "      <td>49080000.0</td>\n",
       "      <td>311.459991</td>\n",
       "      <td>0.615130</td>\n",
       "    </tr>\n",
       "    <tr>\n",
       "      <td>2019-12-05</td>\n",
       "      <td>312.250000</td>\n",
       "      <td>310.579987</td>\n",
       "      <td>312.230011</td>\n",
       "      <td>312.019989</td>\n",
       "      <td>40709000.0</td>\n",
       "      <td>312.019989</td>\n",
       "      <td>0.179636</td>\n",
       "    </tr>\n",
       "    <tr>\n",
       "      <td>2019-12-06</td>\n",
       "      <td>315.309998</td>\n",
       "      <td>314.109985</td>\n",
       "      <td>314.119995</td>\n",
       "      <td>314.869995</td>\n",
       "      <td>48927000.0</td>\n",
       "      <td>314.869995</td>\n",
       "      <td>0.909259</td>\n",
       "    </tr>\n",
       "    <tr>\n",
       "      <td>2019-12-09</td>\n",
       "      <td>315.179993</td>\n",
       "      <td>313.799988</td>\n",
       "      <td>314.440002</td>\n",
       "      <td>313.880005</td>\n",
       "      <td>34838500.0</td>\n",
       "      <td>313.880005</td>\n",
       "      <td>-0.314908</td>\n",
       "    </tr>\n",
       "    <tr>\n",
       "      <td>2019-12-10</td>\n",
       "      <td>314.540009</td>\n",
       "      <td>312.809998</td>\n",
       "      <td>313.820007</td>\n",
       "      <td>313.579987</td>\n",
       "      <td>53107133.0</td>\n",
       "      <td>313.579987</td>\n",
       "      <td>-0.095629</td>\n",
       "    </tr>\n",
       "  </tbody>\n",
       "</table>\n",
       "<p>6764 rows × 7 columns</p>\n",
       "</div>"
      ],
      "text/plain": [
       "                  High         Low        Open       Close      Volume  \\\n",
       "Date                                                                     \n",
       "1993-02-02   44.375000   44.125000   44.218750   44.343750    201300.0   \n",
       "1993-02-03   44.843750   44.375000   44.406250   44.812500    529400.0   \n",
       "1993-02-04   45.093750   44.468750   44.968750   45.000000    531500.0   \n",
       "1993-02-05   45.062500   44.718750   44.968750   44.968750    492100.0   \n",
       "1993-02-08   45.125000   44.906250   44.968750   44.968750    596100.0   \n",
       "...                ...         ...         ...         ...         ...   \n",
       "2019-12-04  312.119995  310.320007  310.700012  311.459991  49080000.0   \n",
       "2019-12-05  312.250000  310.579987  312.230011  312.019989  40709000.0   \n",
       "2019-12-06  315.309998  314.109985  314.119995  314.869995  48927000.0   \n",
       "2019-12-09  315.179993  313.799988  314.440002  313.880005  34838500.0   \n",
       "2019-12-10  314.540009  312.809998  313.820007  313.579987  53107133.0   \n",
       "\n",
       "             Adj Close  Rend_log  \n",
       "Date                              \n",
       "1993-02-02   26.829773  0.211648  \n",
       "1993-02-03   27.113388  1.051543  \n",
       "1993-02-04   27.226835  0.417545  \n",
       "1993-02-05   27.207933 -0.069448  \n",
       "1993-02-08   27.207933  0.000000  \n",
       "...                ...       ...  \n",
       "2019-12-04  311.459991  0.615130  \n",
       "2019-12-05  312.019989  0.179636  \n",
       "2019-12-06  314.869995  0.909259  \n",
       "2019-12-09  313.880005 -0.314908  \n",
       "2019-12-10  313.579987 -0.095629  \n",
       "\n",
       "[6764 rows x 7 columns]"
      ]
     },
     "execution_count": 4,
     "metadata": {},
     "output_type": "execute_result"
    }
   ],
   "source": [
    "df"
   ]
  },
  {
   "cell_type": "code",
   "execution_count": 5,
   "metadata": {},
   "outputs": [
    {
     "data": {
      "text/plain": [
       "<matplotlib.legend.Legend at 0x2c1c648cd08>"
      ]
     },
     "execution_count": 5,
     "metadata": {},
     "output_type": "execute_result"
    },
    {
     "data": {
      "image/png": "[encoded data removed]",
      "text/plain": [
       "<Figure size 1080x576 with 1 Axes>"
      ]
     },
     "metadata": {
      "needs_background": "light"
     },
     "output_type": "display_data"
    }
   ],
   "source": [
    "import seaborn as sns\n",
    "from scipy import stats\n",
    "from scipy.stats import norm\n",
    " \n",
    "# Eliminamos la primera fila del DF; Contiene un valor NaN en el cálculo del R. Aritmético.\n",
    "# Mingo - Este comando recoge todas las lineas desde la 2º (la 1º es el 0)\n",
    "df = df.iloc[1:] \n",
    " \n",
    "# Dibujamos el historgrama de frecuencias. \n",
    "plt.figure(figsize=(15,8))\n",
    "sns.set(color_codes = True)\n",
    "# Mingo - Aquí lo tenemos, esta operación se debería realizar con el rendmiento Logaritmico.\n",
    "ax = sns.distplot(df['Rend_log'], bins=100, kde=False, fit=stats.norm, color='green')\n",
    " \n",
    "# Obtenemos los parámetros ajustados de la distribución normal utilizados por SNS\n",
    "# Jorge me ha pedido que saque los rend. Logaritmicos.\n",
    "(mu, sigma) = stats.norm.fit(df['Rend_log'])\n",
    " \n",
    "# Configuramos el título del gráfico, legendas y etiquetas.\n",
    "plt.title('Distribución Histórica de Retornos Diarios',fontsize = 16)\n",
    "plt.ylabel('Frecuencia')\n",
    "plt.legend([\"Distribución normal. fit ($\\mu=${0:.2g}, $\\sigma=${1:.2f})\".format(mu, sigma), \n",
    "            \"Distribución Rend_log\"])"
   ]
  },
  {
   "cell_type": "code",
   "execution_count": 6,
   "metadata": {},
   "outputs": [
    {
     "name": "stdout",
     "output_type": "stream",
     "text": [
      "> Tasa de Crecimiento Anual Compuesto: 9.9381 %\n",
      "> Buy & Hold: 1156.5 %\n",
      "> Máximo Drawdown Histórico: -55.18 %\n",
      "> Media Diaria: 3.6352 %\n",
      "> Desviación Típica Diaria: 114.32 %\n",
      "> Máxima Pérdida Diaria: -1036. %\n",
      "> Máximo Beneficio Diario: 1355.7 %\n",
      "> Dias Analizados: 6763\n",
      "<-------------------------------------------------->\n",
      "> Coeficiente de Asimetría: -0.144\n",
      "> Curtosis: 10.365\n",
      "<-------------------------------------------------->\n",
      "> VaR Modelo Gaussiano NC-95% : -184.4 %\n",
      "> VaR Modelo Gaussiano NC-99% : -262.3 %\n",
      "> VaR Modelo Gaussiano NC-99.7% : -310.4 %\n",
      "> VaR Modelo Historico NC-95% : -182.2 %\n",
      "> VaR Modelo Historico NC-99% : -314.8 %\n",
      "> VaR Modelo Historico NC-99.7% : -466.6 %\n",
      "             Adj Close  Previous Peak  Drawdown\n",
      "Date                                           \n",
      "1993-02-03   27.113388      27.113388  0.000000\n",
      "1993-02-04   27.226835      27.226835  0.000000\n",
      "1993-02-05   27.207933      27.226835 -0.069424\n",
      "1993-02-08   27.207933      27.226835 -0.069424\n",
      "1993-02-09   27.018862      27.226835 -0.763855\n",
      "...                ...            ...       ...\n",
      "2019-12-04  311.459991     315.480011 -1.274255\n",
      "2019-12-05  312.019989     315.480011 -1.096748\n",
      "2019-12-06  314.869995     315.480011 -0.193361\n",
      "2019-12-09  313.880005     315.480011 -0.507166\n",
      "2019-12-10  313.579987     315.480011 -0.602265\n",
      "\n",
      "[6763 rows x 3 columns]\n"
     ]
    }
   ],
   "source": [
    "# Calculamos la Tasa de Crecimiento Anual Compuesto y el resultado de Comprar y mantener.\n",
    "# Mingo - Y está más claramente, no se pueden sumar los rendimientos airmeticos para sacar \n",
    "# rendmientos en otras escalas temporales, haremos la prueba con un RESAMPLE (ejercicio 1)\n",
    "Años  = df[\"Rend_log\"].count() / 252\n",
    "# Mingo - Este dato si que lo calcula bien, compara el primer dato = iloc[0] con el último iloc[-1] \n",
    "# ( \"-\" hace que empiece por detrás), utilizando el precio, y no sumando rendmientos diarios o anuales\n",
    "CAGR = (df['Adj Close'].iloc[-1]/ df['Adj Close'].iloc[0]) ** (1 / (Años - 1)) - 1\n",
    "print('> Tasa de Crecimiento Anual Compuesto:','%.6s' % (100 * CAGR) ,'%')\n",
    "print('> Buy & Hold:', '%.6s' % (100*(df['Adj Close'].iloc[-1]/ df['Adj Close'].iloc[0])),'%')\n",
    " \n",
    "# Calculamos el Máximo Drawdown.\n",
    "# Mingo - Ejercicio Nº, sacar gráfico de DD\n",
    "Maximo_Anterior = df[\"Adj Close\"].cummax()\n",
    "drawdowns = 100*((df[\"Adj Close\"] - Maximo_Anterior )/Maximo_Anterior )\n",
    "DD = pd.DataFrame({\"Adj Close\": df[\"Adj Close\"], \n",
    "                   \"Previous Peak\": Maximo_Anterior , \n",
    "                   \"Drawdown\": drawdowns})\n",
    "print ('> Máximo Drawdown Histórico:', '%.6s' % np.min(DD['Drawdown']), '%') \n",
    " \n",
    "# Obtenemos el promedio, desviación típica, máximo y mínimo valor y número de datos analizados:\n",
    "print ('> Media Diaria:', '%.6s' % (100 * df[\"Rend_log\"].mean()),'%')\n",
    "print ('> Desviación Típica Diaria:', '%.6s' % (100 * df[\"Rend_log\"].std(ddof=1)),'%')\n",
    "print ('> Máxima Pérdida Diaria:', '%.6s' % (100 * df[\"Rend_log\"].min()),'%')\n",
    "print ('> Máximo Beneficio Diario:', '%.6s' % (100 * df[\"Rend_log\"].max()),'%')\n",
    "print ('> Dias Analizados:', '%.6s' % df[\"Rend_log\"].count())\n",
    "print('<-------------------------------------------------->')\n",
    " \n",
    "# Coeficiente de asimetria y curtosis de la distribución.\n",
    "print ('> Coeficiente de Asimetría:', '%.6s' % df[\"Rend_log\"].skew())\n",
    "print ('> Curtosis:', '%.6s' % df[\"Rend_log\"].kurt())\n",
    "print('<-------------------------------------------------->')\n",
    " \n",
    "# VaR Teórico obtenido a través de la distribución normal al 95% y 99% de confianza.\n",
    "print('> VaR Modelo Gaussiano NC-95% :' , '%.6s' % (100 * norm.ppf(0.05, mu, sigma)),'%')\n",
    "print('> VaR Modelo Gaussiano NC-99% :' , '%.6s' % (100 * norm.ppf(0.01, mu, sigma)),'%')\n",
    "print('> VaR Modelo Gaussiano NC-99.7% :' , '%.6s' % (100 * norm.ppf(0.003, mu, sigma)),'%')\n",
    " \n",
    "# VaR histórico al 95% y 99% de confianza.\n",
    "print('> VaR Modelo Historico NC-95% :', '%.6s' % (100 * np.percentile(df[\"Rend_log\"],5)),'%')\n",
    "print('> VaR Modelo Historico NC-99% :', '%.6s' % (100 * np.percentile(df[\"Rend_log\"],1)),'%')\n",
    "print('> VaR Modelo Historico NC-99.7% :', '%.6s' % (100 * np.percentile(df[\"Rend_log\"],.3)),'%')\n",
    "print(DD)"
   ]
  },
  {
   "cell_type": "code",
   "execution_count": 7,
   "metadata": {},
   "outputs": [
    {
     "data": {
      "text/html": [
       "<div>\n",
       "<style scoped>\n",
       "    .dataframe tbody tr th:only-of-type {\n",
       "        vertical-align: middle;\n",
       "    }\n",
       "\n",
       "    .dataframe tbody tr th {\n",
       "        vertical-align: top;\n",
       "    }\n",
       "\n",
       "    .dataframe thead th {\n",
       "        text-align: right;\n",
       "    }\n",
       "</style>\n",
       "<table border=\"1\" class=\"dataframe\">\n",
       "  <thead>\n",
       "    <tr style=\"text-align: right;\">\n",
       "      <th></th>\n",
       "      <th>Adj Close</th>\n",
       "      <th>Previous Peak</th>\n",
       "      <th>Drawdown</th>\n",
       "    </tr>\n",
       "    <tr>\n",
       "      <th>Date</th>\n",
       "      <th></th>\n",
       "      <th></th>\n",
       "      <th></th>\n",
       "    </tr>\n",
       "  </thead>\n",
       "  <tbody>\n",
       "    <tr>\n",
       "      <td>1993-02-03</td>\n",
       "      <td>27.113388</td>\n",
       "      <td>27.113388</td>\n",
       "      <td>0.000000</td>\n",
       "    </tr>\n",
       "    <tr>\n",
       "      <td>1993-02-04</td>\n",
       "      <td>27.226835</td>\n",
       "      <td>27.226835</td>\n",
       "      <td>0.000000</td>\n",
       "    </tr>\n",
       "    <tr>\n",
       "      <td>1993-02-05</td>\n",
       "      <td>27.207933</td>\n",
       "      <td>27.226835</td>\n",
       "      <td>-0.069424</td>\n",
       "    </tr>\n",
       "    <tr>\n",
       "      <td>1993-02-08</td>\n",
       "      <td>27.207933</td>\n",
       "      <td>27.226835</td>\n",
       "      <td>-0.069424</td>\n",
       "    </tr>\n",
       "    <tr>\n",
       "      <td>1993-02-09</td>\n",
       "      <td>27.018862</td>\n",
       "      <td>27.226835</td>\n",
       "      <td>-0.763855</td>\n",
       "    </tr>\n",
       "  </tbody>\n",
       "</table>\n",
       "</div>"
      ],
      "text/plain": [
       "            Adj Close  Previous Peak  Drawdown\n",
       "Date                                          \n",
       "1993-02-03  27.113388      27.113388  0.000000\n",
       "1993-02-04  27.226835      27.226835  0.000000\n",
       "1993-02-05  27.207933      27.226835 -0.069424\n",
       "1993-02-08  27.207933      27.226835 -0.069424\n",
       "1993-02-09  27.018862      27.226835 -0.763855"
      ]
     },
     "execution_count": 7,
     "metadata": {},
     "output_type": "execute_result"
    }
   ],
   "source": [
    "DD.head()"
   ]
  },
  {
   "cell_type": "code",
   "execution_count": 8,
   "metadata": {},
   "outputs": [
    {
     "data": {
      "image/png": "[encoded data removed]",
      "text/plain": [
       "<Figure size 1296x864 with 2 Axes>"
      ]
     },
     "metadata": {},
     "output_type": "display_data"
    }
   ],
   "source": [
    "# Mingo - Graficamos el equity y el drawdown del sistema\n",
    "# Tengo guardados ejemplo de gráficos interactivos, cuando lo encuentre y los \n",
    "# pueda integrar, los empezmos a utilizar para pdoer ver datos sobre el gráfico.\n",
    "fig, (ax1, ax2) = plt.subplots(2, 1, sharex=True, figsize=(18, 12),\n",
    "                               gridspec_kw={'height_ratios': [4, 2]})\n",
    "#data.equity.plot(ax=ax1, title='Equity', linewidth=8, alpha=0.4, c='b')\n",
    "DD[\"Previous Peak\"].plot(ax=ax1, title='Equity vs Watermark', linewidth=4, alpha=0.4, c='blue')\n",
    "DD[\"Adj Close\"].plot(ax=ax1, title='Equity', linewidth=2, c='orange')\n",
    "DD.Drawdown.plot.area(ax=ax2, color='r', title='Drawdown', alpha=0.8);"
   ]
  },
  {
   "cell_type": "code",
   "execution_count": 9,
   "metadata": {},
   "outputs": [
    {
     "data": {
      "text/plain": [
       "<matplotlib.axes._subplots.AxesSubplot at 0x2c1c6f1b848>"
      ]
     },
     "execution_count": 9,
     "metadata": {},
     "output_type": "execute_result"
    },
    {
     "data": {
      "image/png": "[encoded data removed]",
      "text/plain": [
       "<Figure size 432x288 with 1 Axes>"
      ]
     },
     "metadata": {},
     "output_type": "display_data"
    }
   ],
   "source": [
    "# Aquí solo pretendo crear un histograma para ver en que punto se empiezan a reducir los DD\n",
    "# Claramente del -10'% (recordad, de momento logaritmico) le cuesta bajar, y hasta el -25%\n",
    "# es estable. Probad a jugar con estos valores (-4 y -35 en el original). \n",
    "#df.query('Open>15 and Volume>10**8')\n",
    "#df.query('index > 2019 and Rend_log> 0')\n",
    "#DD.Drawdown.hist(bins=323, histtype='step')\n",
    "#len(DD.Drawdown.resample('M'))\n",
    "#DD.count()\n",
    "DD.query('Drawdown < -4 and Drawdown > -35 ').Drawdown.hist()"
   ]
  },
  {
   "cell_type": "code",
   "execution_count": 10,
   "metadata": {},
   "outputs": [
    {
     "name": "stdout",
     "output_type": "stream",
     "text": [
      " De 6763 días de mercado:\n",
      " Días Positivos: 3637 , 53 %\n",
      " Días Negativos: 3066 , 45 %\n",
      " Días Neutrales:  60 , 0 %\n"
     ]
    }
   ],
   "source": [
    "total = len(df)\n",
    "rend_Pos = len(df[df[\"Rend_log\"] > 0])\n",
    "rel_Pos=rend_Pos*100/total\n",
    "#print(rel_pos, \"%\")\n",
    "rend_Neg = len(df[df[\"Rend_log\"] < 0])\n",
    "rel_Neg=rend_Neg*100/total\n",
    "no_rend = len(df[df[\"Rend_log\"] == 0])\n",
    "rel_No = no_rend*100/total\n",
    "print(\" De %s días de mercado:\" % total)\n",
    "print(\" Días Positivos: %s , %d\" % (rend_Pos , rel_Pos),\"%\")\n",
    "print(\" Días Negativos: %s , %d\" % (rend_Neg, rel_Neg),\"%\")\n",
    "print(\" Días Neutrales:  %s , %d\" % (no_rend, rel_No),\"%\")\n",
    "#len(df[df[\"Rend_log\"] == 0])\n"
   ]
  },
  {
   "cell_type": "code",
   "execution_count": 11,
   "metadata": {},
   "outputs": [
    {
     "data": {
      "text/html": [
       "<div>\n",
       "<style scoped>\n",
       "    .dataframe tbody tr th:only-of-type {\n",
       "        vertical-align: middle;\n",
       "    }\n",
       "\n",
       "    .dataframe tbody tr th {\n",
       "        vertical-align: top;\n",
       "    }\n",
       "\n",
       "    .dataframe thead th {\n",
       "        text-align: right;\n",
       "    }\n",
       "</style>\n",
       "<table border=\"1\" class=\"dataframe\">\n",
       "  <thead>\n",
       "    <tr style=\"text-align: right;\">\n",
       "      <th></th>\n",
       "      <th>High</th>\n",
       "      <th>Low</th>\n",
       "      <th>Open</th>\n",
       "      <th>Close</th>\n",
       "      <th>Volume</th>\n",
       "      <th>Adj Close</th>\n",
       "      <th>Rend_log</th>\n",
       "    </tr>\n",
       "    <tr>\n",
       "      <th>Date</th>\n",
       "      <th></th>\n",
       "      <th></th>\n",
       "      <th></th>\n",
       "      <th></th>\n",
       "      <th></th>\n",
       "      <th></th>\n",
       "      <th></th>\n",
       "    </tr>\n",
       "  </thead>\n",
       "  <tbody>\n",
       "    <tr>\n",
       "      <td>2018-10-05</td>\n",
       "      <td>290.269989</td>\n",
       "      <td>286.220001</td>\n",
       "      <td>289.690002</td>\n",
       "      <td>287.820007</td>\n",
       "      <td>105951700.0</td>\n",
       "      <td>282.211914</td>\n",
       "      <td>-0.561286</td>\n",
       "    </tr>\n",
       "    <tr>\n",
       "      <td>2018-10-08</td>\n",
       "      <td>288.220001</td>\n",
       "      <td>285.500000</td>\n",
       "      <td>287.049988</td>\n",
       "      <td>287.820007</td>\n",
       "      <td>87742200.0</td>\n",
       "      <td>282.211914</td>\n",
       "      <td>0.000000</td>\n",
       "    </tr>\n",
       "  </tbody>\n",
       "</table>\n",
       "</div>"
      ],
      "text/plain": [
       "                  High         Low        Open       Close       Volume  \\\n",
       "Date                                                                      \n",
       "2018-10-05  290.269989  286.220001  289.690002  287.820007  105951700.0   \n",
       "2018-10-08  288.220001  285.500000  287.049988  287.820007   87742200.0   \n",
       "\n",
       "             Adj Close  Rend_log  \n",
       "Date                              \n",
       "2018-10-05  282.211914 -0.561286  \n",
       "2018-10-08  282.211914  0.000000  "
      ]
     },
     "execution_count": 11,
     "metadata": {},
     "output_type": "execute_result"
    }
   ],
   "source": [
    "df.loc['20181005':'20181008']   # compruebo los rendimientos a 0"
   ]
  },
  {
   "cell_type": "code",
   "execution_count": 12,
   "metadata": {},
   "outputs": [
    {
     "name": "stdout",
     "output_type": "stream",
     "text": [
      "La mayor subida es del 13.56 %\n",
      "El día 2008-10-13 00:00:00\n"
     ]
    }
   ],
   "source": [
    "fechaup = df['Rend_log'].idxmax()\n",
    "print(\"La mayor subida es del %s\" % round(df.Rend_log.max(),2),\"%\")\n",
    "print(\"El día %s\" % fechaup)"
   ]
  },
  {
   "cell_type": "code",
   "execution_count": 13,
   "metadata": {},
   "outputs": [
    {
     "name": "stdout",
     "output_type": "stream",
     "text": [
      "El pejor día de mercado fue :\n"
     ]
    },
    {
     "data": {
      "text/html": [
       "<div>\n",
       "<style scoped>\n",
       "    .dataframe tbody tr th:only-of-type {\n",
       "        vertical-align: middle;\n",
       "    }\n",
       "\n",
       "    .dataframe tbody tr th {\n",
       "        vertical-align: top;\n",
       "    }\n",
       "\n",
       "    .dataframe thead th {\n",
       "        text-align: right;\n",
       "    }\n",
       "</style>\n",
       "<table border=\"1\" class=\"dataframe\">\n",
       "  <thead>\n",
       "    <tr style=\"text-align: right;\">\n",
       "      <th></th>\n",
       "      <th>Adj Close</th>\n",
       "      <th>Rend_log</th>\n",
       "    </tr>\n",
       "    <tr>\n",
       "      <th>Date</th>\n",
       "      <th></th>\n",
       "      <th></th>\n",
       "    </tr>\n",
       "  </thead>\n",
       "  <tbody>\n",
       "    <tr>\n",
       "      <td>2008-10-13</td>\n",
       "      <td>80.84</td>\n",
       "      <td>13.56</td>\n",
       "    </tr>\n",
       "  </tbody>\n",
       "</table>\n",
       "</div>"
      ],
      "text/plain": [
       "            Adj Close  Rend_log\n",
       "Date                           \n",
       "2008-10-13      80.84     13.56"
      ]
     },
     "execution_count": 13,
     "metadata": {},
     "output_type": "execute_result"
    }
   ],
   "source": [
    "print(\"El pejor día de mercado fue :\")\n",
    "round(df.loc[[df.Rend_log.idxmax()],'Adj Close':'Rend_log'],2)"
   ]
  },
  {
   "cell_type": "code",
   "execution_count": 14,
   "metadata": {},
   "outputs": [
    {
     "name": "stdout",
     "output_type": "stream",
     "text": [
      "La mayor bajada es del -10.36 %\n",
      "El día 2008-10-15 00:00:00\n"
     ]
    }
   ],
   "source": [
    "fechadown = df['Rend_log'].idxmin()\n",
    "print(\"La mayor bajada es del %s\" % round(df.Rend_log.min(),2),\"%\")\n",
    "print(\"El día %s\" % fechadown)"
   ]
  },
  {
   "cell_type": "code",
   "execution_count": 15,
   "metadata": {},
   "outputs": [
    {
     "name": "stdout",
     "output_type": "stream",
     "text": [
      "El peor día de mercado fue :\n"
     ]
    },
    {
     "data": {
      "text/html": [
       "<div>\n",
       "<style scoped>\n",
       "    .dataframe tbody tr th:only-of-type {\n",
       "        vertical-align: middle;\n",
       "    }\n",
       "\n",
       "    .dataframe tbody tr th {\n",
       "        vertical-align: top;\n",
       "    }\n",
       "\n",
       "    .dataframe thead th {\n",
       "        text-align: right;\n",
       "    }\n",
       "</style>\n",
       "<table border=\"1\" class=\"dataframe\">\n",
       "  <thead>\n",
       "    <tr style=\"text-align: right;\">\n",
       "      <th></th>\n",
       "      <th>Close</th>\n",
       "      <th>Volume</th>\n",
       "      <th>Adj Close</th>\n",
       "      <th>Rend_log</th>\n",
       "    </tr>\n",
       "    <tr>\n",
       "      <th>Date</th>\n",
       "      <th></th>\n",
       "      <th></th>\n",
       "      <th></th>\n",
       "      <th></th>\n",
       "    </tr>\n",
       "  </thead>\n",
       "  <tbody>\n",
       "    <tr>\n",
       "      <td>2008-10-15</td>\n",
       "      <td>90.02</td>\n",
       "      <td>484627500.0</td>\n",
       "      <td>71.81</td>\n",
       "      <td>-10.36</td>\n",
       "    </tr>\n",
       "  </tbody>\n",
       "</table>\n",
       "</div>"
      ],
      "text/plain": [
       "            Close       Volume  Adj Close  Rend_log\n",
       "Date                                               \n",
       "2008-10-15  90.02  484627500.0      71.81    -10.36"
      ]
     },
     "execution_count": 15,
     "metadata": {},
     "output_type": "execute_result"
    }
   ],
   "source": [
    "print(\"El peor día de mercado fue :\")\n",
    "round(df.loc[[df.Rend_log.idxmin()],'Close':'Rend_log'],2)  #, san.loc['2015-11-01':'2015-11-10', 'Adj Close':'Volume'] "
   ]
  },
  {
   "cell_type": "code",
   "execution_count": 16,
   "metadata": {},
   "outputs": [
    {
     "name": "stdout",
     "output_type": "stream",
     "text": [
      "El peor día de mercado fue : \n",
      "Date\n",
      "2008-10-15   -10.363702\n",
      "Name: Rend_log, dtype: float64\n"
     ]
    }
   ],
   "source": [
    "print(\"El peor día de mercado fue : \")\n",
    "print(df['Rend_log'].sort_values(ascending=True)[0:1])"
   ]
  },
  {
   "cell_type": "code",
   "execution_count": 17,
   "metadata": {},
   "outputs": [
    {
     "name": "stdout",
     "output_type": "stream",
     "text": [
      "Peores días de mercado por Rend Log:\n",
      "Date\n",
      "2008-10-15   -10.363702\n",
      "2008-12-01    -9.274930\n",
      "2008-09-29    -8.160255\n",
      "2008-11-20    -7.713259\n",
      "1997-10-27    -7.523355\n",
      "1998-08-31    -7.401494\n",
      "2008-10-09    -7.239716\n",
      "2011-08-08    -6.734091\n",
      "2008-11-19    -6.622462\n",
      "Name: Rend_log, dtype: float64\n",
      "\n",
      "Pérdida de esos 10 días -71.03 %\n"
     ]
    }
   ],
   "source": [
    "print(\"Peores días de mercado por Rend Log:\")\n",
    "print(df['Rend_log'].sort_values(ascending=True)[0:9])\n",
    "print(\"\")\n",
    "print(\"Pérdida de esos 10 días %s\" % round(df['Rend_log'].sort_values(ascending=True)[0:9].sum(),2),\"%\")"
   ]
  },
  {
   "cell_type": "code",
   "execution_count": 18,
   "metadata": {},
   "outputs": [
    {
     "name": "stdout",
     "output_type": "stream",
     "text": [
      "Mejores días de mercado por Rend Log:\n",
      "Date\n",
      "2008-10-13    13.557723\n",
      "2008-10-28    11.051711\n",
      "2009-03-23     6.936691\n",
      "2008-11-24     6.699562\n",
      "2008-11-13     6.047371\n",
      "2008-10-20     5.834396\n",
      "2002-07-24     5.795015\n",
      "2009-03-10     5.790034\n",
      "2000-01-07     5.645201\n",
      "Name: Rend_log, dtype: float64\n",
      "\n",
      "Ganancia de esos 10 días 67.36 %\n"
     ]
    }
   ],
   "source": [
    "print(\"Mejores días de mercado por Rend Log:\")\n",
    "print(df['Rend_log'].sort_values(ascending=False)[0:9])\n",
    "print(\"\")\n",
    "print(\"Ganancia de esos 10 días %s\" % round(df['Rend_log'].sort_values(ascending=False)[0:9].sum(),2),\"%\")"
   ]
  },
  {
   "cell_type": "code",
   "execution_count": 19,
   "metadata": {},
   "outputs": [
    {
     "name": "stdout",
     "output_type": "stream",
     "text": [
      "Date\n",
      "0    0.031477\n",
      "1    0.064743\n",
      "2    0.045655\n",
      "3    0.015926\n",
      "4    0.022883\n",
      "Name: Rend_log, dtype: float64\n"
     ]
    },
    {
     "data": {
      "image/png": "[encoded data removed]",
      "text/plain": [
       "<Figure size 432x288 with 1 Axes>"
      ]
     },
     "metadata": {},
     "output_type": "display_data"
    }
   ],
   "source": [
    "# Rendimientos por día de la semana y gráfico\n",
    "print(df.Rend_log.groupby(df.index.dayofweek).mean())\n",
    "media_semanal= df.Rend_log.groupby(df.index.dayofweek).mean().plot(kind='bar')"
   ]
  },
  {
   "cell_type": "code",
   "execution_count": 20,
   "metadata": {},
   "outputs": [
    {
     "name": "stdout",
     "output_type": "stream",
     "text": [
      "Date\n",
      "1     0.031766\n",
      "2     0.008463\n",
      "3     0.064455\n",
      "4     0.088795\n",
      "5     0.028365\n",
      "6     0.005743\n",
      "7     0.038287\n",
      "8    -0.019627\n",
      "9    -0.003698\n",
      "10    0.066030\n",
      "11    0.086168\n",
      "12    0.040661\n",
      "Name: Rend_log, dtype: float64\n"
     ]
    },
    {
     "data": {
      "text/plain": [
       "<matplotlib.axes._subplots.AxesSubplot at 0x2c1c6928588>"
      ]
     },
     "execution_count": 20,
     "metadata": {},
     "output_type": "execute_result"
    },
    {
     "data": {
      "image/png": "[encoded data removed]",
      "text/plain": [
       "<Figure size 432x288 with 1 Axes>"
      ]
     },
     "metadata": {},
     "output_type": "display_data"
    }
   ],
   "source": [
    "# Rendimientos por mes y gráfico\n",
    "rend_mensuales = df.Rend_log.groupby(df.index.month).mean()  # solo pasé a base 100 los rend diarios\n",
    "print(rend_mensuales)\n",
    "df.Rend_log.groupby(df.index.month).mean().plot(kind='bar')"
   ]
  },
  {
   "cell_type": "code",
   "execution_count": 21,
   "metadata": {},
   "outputs": [
    {
     "data": {
      "text/plain": [
       "pandas.core.series.Series"
      ]
     },
     "execution_count": 21,
     "metadata": {},
     "output_type": "execute_result"
    }
   ],
   "source": [
    "type(rend_mensuales)  # estas pruebas son una mamonada, pero ayuda saber cuando es una serie, un DF, una lista . . ."
   ]
  },
  {
   "cell_type": "code",
   "execution_count": 22,
   "metadata": {},
   "outputs": [
    {
     "name": "stdout",
     "output_type": "stream",
     "text": [
      " Rendmiento sin verano :  0.43910529040198104\n",
      " Rendmiento anual completo :  0.43540748933469653\n"
     ]
    }
   ],
   "source": [
    "# El sistema Halloween lo \"maqueamos\": eliminamos Agosto y septiembre que son los 2 únicos meses con el acumulado negativo\n",
    "#\n",
    "#rend_mensuales.sum()\n",
    "print(\" Rendmiento sin verano : \", (rend_mensuales[0:8].sum()+ rend_mensuales[9:12].sum()))\n",
    "print(\" Rendmiento anual completo : \" , rend_mensuales.sum())\n",
    "# Ya tenemos un sistema que mejora, por muy poco, el SPY= compramos SPY y en Agosto/septiembre vendemos futuros para \"netear\"\n",
    "# la posición (es coña, la ganancia es mínima, lo ganado se perdería en comisiones y horquillas, pero descansaríamos en verano)"
   ]
  },
  {
   "cell_type": "code",
   "execution_count": 23,
   "metadata": {},
   "outputs": [
    {
     "data": {
      "text/plain": [
       "<matplotlib.axes._subplots.AxesSubplot at 0x2c1c69bbc48>"
      ]
     },
     "execution_count": 23,
     "metadata": {},
     "output_type": "execute_result"
    },
    {
     "data": {
      "image/png": "[encoded data removed]",
      "text/plain": [
       "<Figure size 432x288 with 1 Axes>"
      ]
     },
     "metadata": {},
     "output_type": "display_data"
    }
   ],
   "source": [
    "# Rendimientos por día del mes, ojo, Dias naturales. Sería interesante hacerlo por días de Trading y comparar\n",
    "df.groupby([df.Rend_log.index.day]).Rend_log.mean().plot(kind='bar') #df.groupby ([df.index.day]).mean()"
   ]
  },
  {
   "cell_type": "code",
   "execution_count": 24,
   "metadata": {},
   "outputs": [
    {
     "data": {
      "text/plain": [
       "Date\n",
       "1993-02-03     1.051543\n",
       "1993-02-04     0.417545\n",
       "1993-02-05    -0.069448\n",
       "1993-02-08     0.000000\n",
       "1993-02-09    -0.697339\n",
       "                ...    \n",
       "2019-12-04     3.940879\n",
       "2019-12-05    23.737243\n",
       "2019-12-06     1.296882\n",
       "2019-12-09   -36.568332\n",
       "2019-12-10     3.509050\n",
       "Name: Rend_log, Length: 6763, dtype: float64"
      ]
     },
     "execution_count": 24,
     "metadata": {},
     "output_type": "execute_result"
    }
   ],
   "source": [
    "df.groupby([df.Rend_log.index.day]).Rend_log.cumsum()  # no sé que quería hacer aquí"
   ]
  },
  {
   "cell_type": "code",
   "execution_count": 25,
   "metadata": {},
   "outputs": [
    {
     "data": {
      "text/html": [
       "<div>\n",
       "<style scoped>\n",
       "    .dataframe tbody tr th:only-of-type {\n",
       "        vertical-align: middle;\n",
       "    }\n",
       "\n",
       "    .dataframe tbody tr th {\n",
       "        vertical-align: top;\n",
       "    }\n",
       "\n",
       "    .dataframe thead th {\n",
       "        text-align: right;\n",
       "    }\n",
       "</style>\n",
       "<table border=\"1\" class=\"dataframe\">\n",
       "  <thead>\n",
       "    <tr style=\"text-align: right;\">\n",
       "      <th></th>\n",
       "      <th>High</th>\n",
       "      <th>Low</th>\n",
       "      <th>Open</th>\n",
       "      <th>Close</th>\n",
       "      <th>Volume</th>\n",
       "      <th>Adj Close</th>\n",
       "      <th>Rend_log</th>\n",
       "    </tr>\n",
       "    <tr>\n",
       "      <th>Date</th>\n",
       "      <th></th>\n",
       "      <th></th>\n",
       "      <th></th>\n",
       "      <th></th>\n",
       "      <th></th>\n",
       "      <th></th>\n",
       "      <th></th>\n",
       "    </tr>\n",
       "  </thead>\n",
       "  <tbody>\n",
       "    <tr>\n",
       "      <td>1993-02-03</td>\n",
       "      <td>44.843750</td>\n",
       "      <td>44.375000</td>\n",
       "      <td>44.406250</td>\n",
       "      <td>44.812500</td>\n",
       "      <td>5.294000e+05</td>\n",
       "      <td>27.113388</td>\n",
       "      <td>1.051543</td>\n",
       "    </tr>\n",
       "    <tr>\n",
       "      <td>1993-02-04</td>\n",
       "      <td>45.093750</td>\n",
       "      <td>44.468750</td>\n",
       "      <td>44.968750</td>\n",
       "      <td>45.000000</td>\n",
       "      <td>5.315000e+05</td>\n",
       "      <td>27.226835</td>\n",
       "      <td>0.417545</td>\n",
       "    </tr>\n",
       "    <tr>\n",
       "      <td>1993-02-05</td>\n",
       "      <td>45.062500</td>\n",
       "      <td>44.718750</td>\n",
       "      <td>44.968750</td>\n",
       "      <td>44.968750</td>\n",
       "      <td>4.921000e+05</td>\n",
       "      <td>27.207933</td>\n",
       "      <td>-0.069448</td>\n",
       "    </tr>\n",
       "    <tr>\n",
       "      <td>1993-02-08</td>\n",
       "      <td>45.125000</td>\n",
       "      <td>44.906250</td>\n",
       "      <td>44.968750</td>\n",
       "      <td>44.968750</td>\n",
       "      <td>5.961000e+05</td>\n",
       "      <td>27.207933</td>\n",
       "      <td>0.000000</td>\n",
       "    </tr>\n",
       "    <tr>\n",
       "      <td>1993-02-09</td>\n",
       "      <td>44.812500</td>\n",
       "      <td>44.562500</td>\n",
       "      <td>44.812500</td>\n",
       "      <td>44.656250</td>\n",
       "      <td>1.221000e+05</td>\n",
       "      <td>27.018862</td>\n",
       "      <td>-0.697339</td>\n",
       "    </tr>\n",
       "    <tr>\n",
       "      <td>...</td>\n",
       "      <td>...</td>\n",
       "      <td>...</td>\n",
       "      <td>...</td>\n",
       "      <td>...</td>\n",
       "      <td>...</td>\n",
       "      <td>...</td>\n",
       "      <td>...</td>\n",
       "    </tr>\n",
       "    <tr>\n",
       "      <td>2019-12-04</td>\n",
       "      <td>28470.970589</td>\n",
       "      <td>28092.625031</td>\n",
       "      <td>28294.030624</td>\n",
       "      <td>28301.984352</td>\n",
       "      <td>1.809973e+10</td>\n",
       "      <td>23466.977386</td>\n",
       "      <td>3.940879</td>\n",
       "    </tr>\n",
       "    <tr>\n",
       "      <td>2019-12-05</td>\n",
       "      <td>30918.664421</td>\n",
       "      <td>30535.654381</td>\n",
       "      <td>30736.503792</td>\n",
       "      <td>30756.691895</td>\n",
       "      <td>1.857006e+10</td>\n",
       "      <td>25539.489513</td>\n",
       "      <td>23.737243</td>\n",
       "    </tr>\n",
       "    <tr>\n",
       "      <td>2019-12-06</td>\n",
       "      <td>31148.758690</td>\n",
       "      <td>30761.252472</td>\n",
       "      <td>30959.368790</td>\n",
       "      <td>30983.906204</td>\n",
       "      <td>1.891191e+10</td>\n",
       "      <td>25749.685371</td>\n",
       "      <td>1.296882</td>\n",
       "    </tr>\n",
       "    <tr>\n",
       "      <td>2019-12-09</td>\n",
       "      <td>31457.533607</td>\n",
       "      <td>31065.362442</td>\n",
       "      <td>31296.028809</td>\n",
       "      <td>31249.156311</td>\n",
       "      <td>1.915603e+10</td>\n",
       "      <td>25888.856510</td>\n",
       "      <td>-36.568332</td>\n",
       "    </tr>\n",
       "    <tr>\n",
       "      <td>2019-12-10</td>\n",
       "      <td>31195.428169</td>\n",
       "      <td>30817.139275</td>\n",
       "      <td>31019.408638</td>\n",
       "      <td>31016.364944</td>\n",
       "      <td>1.996404e+10</td>\n",
       "      <td>25667.863569</td>\n",
       "      <td>3.509050</td>\n",
       "    </tr>\n",
       "  </tbody>\n",
       "</table>\n",
       "<p>6763 rows × 7 columns</p>\n",
       "</div>"
      ],
      "text/plain": [
       "                    High           Low          Open         Close  \\\n",
       "Date                                                                 \n",
       "1993-02-03     44.843750     44.375000     44.406250     44.812500   \n",
       "1993-02-04     45.093750     44.468750     44.968750     45.000000   \n",
       "1993-02-05     45.062500     44.718750     44.968750     44.968750   \n",
       "1993-02-08     45.125000     44.906250     44.968750     44.968750   \n",
       "1993-02-09     44.812500     44.562500     44.812500     44.656250   \n",
       "...                  ...           ...           ...           ...   \n",
       "2019-12-04  28470.970589  28092.625031  28294.030624  28301.984352   \n",
       "2019-12-05  30918.664421  30535.654381  30736.503792  30756.691895   \n",
       "2019-12-06  31148.758690  30761.252472  30959.368790  30983.906204   \n",
       "2019-12-09  31457.533607  31065.362442  31296.028809  31249.156311   \n",
       "2019-12-10  31195.428169  30817.139275  31019.408638  31016.364944   \n",
       "\n",
       "                  Volume     Adj Close   Rend_log  \n",
       "Date                                               \n",
       "1993-02-03  5.294000e+05     27.113388   1.051543  \n",
       "1993-02-04  5.315000e+05     27.226835   0.417545  \n",
       "1993-02-05  4.921000e+05     27.207933  -0.069448  \n",
       "1993-02-08  5.961000e+05     27.207933   0.000000  \n",
       "1993-02-09  1.221000e+05     27.018862  -0.697339  \n",
       "...                  ...           ...        ...  \n",
       "2019-12-04  1.809973e+10  23466.977386   3.940879  \n",
       "2019-12-05  1.857006e+10  25539.489513  23.737243  \n",
       "2019-12-06  1.891191e+10  25749.685371   1.296882  \n",
       "2019-12-09  1.915603e+10  25888.856510 -36.568332  \n",
       "2019-12-10  1.996404e+10  25667.863569   3.509050  \n",
       "\n",
       "[6763 rows x 7 columns]"
      ]
     },
     "execution_count": 25,
     "metadata": {},
     "output_type": "execute_result"
    }
   ],
   "source": [
    "df.groupby([df.Rend_log.index.day]).cumsum()  # esto está mal, fijaos que hace un acumulado de todas las columnas"
   ]
  },
  {
   "cell_type": "code",
   "execution_count": 26,
   "metadata": {},
   "outputs": [
    {
     "data": {
      "text/plain": [
       "Date\n",
       "1993-02-03    1\n",
       "1993-02-04    2\n",
       "1993-02-05    3\n",
       "1993-02-08    4\n",
       "1993-02-09    5\n",
       "             ..\n",
       "2019-12-04    3\n",
       "2019-12-05    4\n",
       "2019-12-06    5\n",
       "2019-12-09    6\n",
       "2019-12-10    7\n",
       "Length: 6763, dtype: int64"
      ]
     },
     "execution_count": 26,
     "metadata": {},
     "output_type": "execute_result"
    }
   ],
   "source": [
    "# ni idea de como he sacado esto, pero saca los días de Trading\n",
    "df.groupby(pd.Grouper(freq='M')).cumcount()+1    "
   ]
  },
  {
   "cell_type": "code",
   "execution_count": 27,
   "metadata": {},
   "outputs": [
    {
     "name": "stdout",
     "output_type": "stream",
     "text": [
      "Date\n",
      "1     55.178588\n",
      "2     17.513454\n",
      "3     20.528669\n",
      "4      3.940879\n",
      "5     23.737243\n",
      "6      1.296882\n",
      "7    -22.640192\n",
      "8     17.552188\n",
      "9    -36.568332\n",
      "10     3.509050\n",
      "11     4.164438\n",
      "12    14.494895\n",
      "13    31.089106\n",
      "14     9.264518\n",
      "15     7.035191\n",
      "16    53.560418\n",
      "17     0.366534\n",
      "18    39.969934\n",
      "19   -19.112069\n",
      "20   -34.633284\n",
      "21     5.252845\n",
      "22     0.836182\n",
      "23    -9.399071\n",
      "24   -11.171691\n",
      "25    17.771524\n",
      "26    32.033033\n",
      "27   -14.291218\n",
      "28    25.106690\n",
      "29    18.665346\n",
      "30    -6.171035\n",
      "31    -3.026489\n",
      "Name: Rend_log, dtype: float64\n"
     ]
    }
   ],
   "source": [
    "# rendmiento acumulado por días\n",
    "rend_dia_mes = df.groupby([df.index.day]).Rend_log.sum()\n",
    "print(rend_dia_mes)"
   ]
  },
  {
   "cell_type": "code",
   "execution_count": 28,
   "metadata": {},
   "outputs": [
    {
     "data": {
      "text/plain": [
       "Date\n",
       "1     55.178588\n",
       "16    53.560418\n",
       "18    39.969934\n",
       "26    32.033033\n",
       "13    31.089106\n",
       "28    25.106690\n",
       "5     23.737243\n",
       "3     20.528669\n",
       "29    18.665346\n",
       "25    17.771524\n",
       "8     17.552188\n",
       "2     17.513454\n",
       "12    14.494895\n",
       "14     9.264518\n",
       "15     7.035191\n",
       "21     5.252845\n",
       "11     4.164438\n",
       "4      3.940879\n",
       "10     3.509050\n",
       "6      1.296882\n",
       "22     0.836182\n",
       "17     0.366534\n",
       "31    -3.026489\n",
       "30    -6.171035\n",
       "23    -9.399071\n",
       "24   -11.171691\n",
       "27   -14.291218\n",
       "19   -19.112069\n",
       "7    -22.640192\n",
       "20   -34.633284\n",
       "9    -36.568332\n",
       "Name: Rend_log, dtype: float64"
      ]
     },
     "execution_count": 28,
     "metadata": {},
     "output_type": "execute_result"
    }
   ],
   "source": [
    "# Ordenamos los rendimientos cumulados, el 1er día de mes el mas alcista, después días de enmedio y de finales\n",
    "# Posible sistema, entrar el 27 al cierre (recoger la rentabilidad desde el 28) y salir el 5 al cierre\n",
    "rend_dia_mes.sort_values(ascending=False)"
   ]
  },
  {
   "cell_type": "code",
   "execution_count": 29,
   "metadata": {},
   "outputs": [
    {
     "data": {
      "text/plain": [
       "245.85422662808654"
      ]
     },
     "execution_count": 29,
     "metadata": {},
     "output_type": "execute_result"
    }
   ],
   "source": [
    "# Este proceso es hacer una suma de los rendmientos por el día de mes y luego sumar todos esos días. \n",
    "rend_dia_mes.sum() # "
   ]
  },
  {
   "cell_type": "code",
   "execution_count": 30,
   "metadata": {},
   "outputs": [
    {
     "data": {
      "text/plain": [
       "120.89883358441217"
      ]
     },
     "execution_count": 30,
     "metadata": {},
     "output_type": "execute_result"
    }
   ],
   "source": [
    "# los 5 primeros días de mes (la suma de todos el historico) se hace la mitad del rendmiento del mes\n",
    "rend_dia_mes[0:5].sum()"
   ]
  },
  {
   "cell_type": "code",
   "execution_count": 31,
   "metadata": {},
   "outputs": [
    {
     "data": {
      "text/plain": [
       "245.85422662808662"
      ]
     },
     "execution_count": 31,
     "metadata": {},
     "output_type": "execute_result"
    }
   ],
   "source": [
    "# esto es una prueba, suma de los renmdientos Log de toda la serie. soy un desconfiado, no me fio de los estudios de otros,\n",
    "# ni de ls míos, ni de Python sus librerías y por supuesto, los servicios de datos.\n",
    "df.Rend_log.sum()  "
   ]
  },
  {
   "cell_type": "code",
   "execution_count": 32,
   "metadata": {},
   "outputs": [
    {
     "data": {
      "text/plain": [
       "2.4480268378053114"
      ]
     },
     "execution_count": 32,
     "metadata": {},
     "output_type": "execute_result"
    }
   ],
   "source": [
    "#Aquí compruebo, la difernecia entre el último número de la serie y el primero, no está en BASE % (*100)\n",
    "np.log(df['Adj Close'][-1]) - np.log(df['Adj Close'][0]) # np.log(df[\"Adj Close\"]) - np.log(df[\"Adj Close\"].shift(1)"
   ]
  },
  {
   "cell_type": "code",
   "execution_count": 33,
   "metadata": {},
   "outputs": [
    {
     "name": "stdout",
     "output_type": "stream",
     "text": [
      "1º cierre: 27.113388061523438 \n",
      "Último cierre: 313.5799865722656 \n"
     ]
    }
   ],
   "source": [
    "print(\"1º cierre: %s \" % df['Adj Close'][0])\n",
    "print(\"Último cierre: %s \" % df['Adj Close'][-1])"
   ]
  },
  {
   "cell_type": "code",
   "execution_count": 34,
   "metadata": {},
   "outputs": [
    {
     "data": {
      "text/plain": [
       "Date\n",
       "2019-01-02     0.103967\n",
       "2019-01-03    -2.311236\n",
       "2019-01-04     0.983466\n",
       "2019-01-07     1.768834\n",
       "2019-01-08     2.703982\n",
       "                ...    \n",
       "2019-12-04    23.398430\n",
       "2019-12-05    23.578066\n",
       "2019-12-06    24.487325\n",
       "2019-12-09    24.172417\n",
       "2019-12-10    24.076787\n",
       "Name: Rend_log, Length: 238, dtype: float64"
      ]
     },
     "execution_count": 34,
     "metadata": {},
     "output_type": "execute_result"
    }
   ],
   "source": [
    "df.loc['2019-01-01':].Rend_log.cumsum() # Cuenta desde 2019-01-01 en adelante"
   ]
  },
  {
   "cell_type": "code",
   "execution_count": 35,
   "metadata": {},
   "outputs": [
    {
     "data": {
      "text/plain": [
       "8.646700393851248"
      ]
     },
     "execution_count": 35,
     "metadata": {},
     "output_type": "execute_result"
    }
   ],
   "source": [
    "# Esta consulta la hago por que Tío Tino tiene un 40% de rentabilidad en /ES, quería saber , con datos de fin de día\n",
    "# Si se hubiese acertado todos los dáis al alza y todos a la baja, cuando se hubiese sacado, poco más del +10%,\n",
    "# pòr mis cojones que sus sistema está apalancado.\n",
    "df.query(\"index > '2019-06' and index <'2019-07' and Rend_log > 0\").Rend_log.sum() # Rendimiento Positivos de Junio 2019"
   ]
  },
  {
   "cell_type": "code",
   "execution_count": 36,
   "metadata": {},
   "outputs": [
    {
     "data": {
      "text/plain": [
       "-1.9194893967380722"
      ]
     },
     "execution_count": 36,
     "metadata": {},
     "output_type": "execute_result"
    }
   ],
   "source": [
    "df.query(\"index > '2019-06' and index <'2019-07' and Rend_log < 0\").Rend_log.sum() # Rendimiento Negativos de Junio 2019"
   ]
  },
  {
   "cell_type": "code",
   "execution_count": 37,
   "metadata": {},
   "outputs": [
    {
     "data": {
      "text/plain": [
       "<matplotlib.axes._subplots.AxesSubplot at 0x2c1c6f5c888>"
      ]
     },
     "execution_count": 37,
     "metadata": {},
     "output_type": "execute_result"
    },
    {
     "data": {
      "image/png": "[encoded data removed]",
      "text/plain": [
       "<Figure size 432x288 with 1 Axes>"
      ]
     },
     "metadata": {},
     "output_type": "display_data"
    }
   ],
   "source": [
    "# Esta prueba viene de una hoja Excel que encontre hace una décata, metía, de forma aleatoria, rendmientos de -0.5% y +0.5%\n",
    "# para generar una serie, y demostrar que en series aleatorias también se veían canales, dobles techos, ETC\n",
    "s = pd.Series(np.random.randint(-100, 101, +1000))\n",
    "s.cumsum().plot()"
   ]
  },
  {
   "cell_type": "code",
   "execution_count": 38,
   "metadata": {},
   "outputs": [
    {
     "name": "stdout",
     "output_type": "stream",
     "text": [
      "503  Días positivos\n",
      "495  Días Negativos\n",
      "2  Días NEUTROS\n"
     ]
    }
   ],
   "source": [
    "# compruebo cuantos días alcistas, bajistas y neutrales. Al principio los valores eran -1, 0 y +1 y salía 1/3 parte de días a 0\n",
    "# quería dar pesos a esta distribución, pero voy cogiendo ingenio = como el randint(eger) solo genera números ewnteros, lo he \n",
    "# hecho de -100 (-1%) a +101( +1%) * el puto Paython, el  extremo inicial está incluido, el final no.\n",
    "print(len(s[s>0]), ' Días positivos')\n",
    "print(len(s[s<0]), ' Días Negativos')\n",
    "print(len(s[s==0]), ' Días NEUTROS')"
   ]
  },
  {
   "cell_type": "code",
   "execution_count": 61,
   "metadata": {},
   "outputs": [
    {
     "data": {
      "image/png": "[encoded data removed]",
      "text/plain": [
       "<Figure size 432x288 with 1 Axes>"
      ]
     },
     "metadata": {},
     "output_type": "display_data"
    }
   ],
   "source": [
    "# Generamos 4 gráficos aleaorios con 1000 resultados (rendimientos)\n",
    "# Vemos que se forman tendencias, canales, dobles suelos, etc\n",
    "for x in ('a','b','c','d'):\n",
    "    x = pd.Series(np.random.randint(-100, 101, +1000))\n",
    "    x.cumsum().plot()\n"
   ]
  },
  {
   "cell_type": "code",
   "execution_count": null,
   "metadata": {},
   "outputs": [],
   "source": []
  },
  {
   "cell_type": "code",
   "execution_count": null,
   "metadata": {},
   "outputs": [],
   "source": []
  }
 ],
 "metadata": {
  "kernelspec": {
   "display_name": "Python 3",
   "language": "python",
   "name": "python3"
  },
  "language_info": {
   "codemirror_mode": {
    "name": "ipython",
    "version": 3
   },
   "file_extension": ".py",
   "mimetype": "text/x-python",
   "name": "python",
   "nbconvert_exporter": "python",
   "pygments_lexer": "ipython3",
   "version": "3.7.4"
  }
 },
 "nbformat": 4,
 "nbformat_minor": 2
}
